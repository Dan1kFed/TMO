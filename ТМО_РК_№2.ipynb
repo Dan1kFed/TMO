{
  "nbformat": 4,
  "nbformat_minor": 0,
  "metadata": {
    "accelerator": "GPU",
    "colab": {
      "name": "ТМО РК №2.ipynb",
      "provenance": [],
      "collapsed_sections": [],
      "toc_visible": true
    },
    "kernelspec": {
      "display_name": "Python 3",
      "language": "python",
      "name": "python3"
    }
  },
  "cells": [
    {
      "cell_type": "markdown",
      "metadata": {
        "id": "Us8CDdDG37hs",
        "colab_type": "text"
      },
      "source": [
        "**Федюкин Д.А. ИУ5-62б**"
      ]
    },
    {
      "cell_type": "code",
      "metadata": {
        "colab_type": "code",
        "id": "rHuLILYgzXWk",
        "colab": {}
      },
      "source": [
        "from sklearn.feature_extraction.text import TfidfVectorizer, CountVectorizer\n",
        "from sklearn.model_selection import train_test_split\n",
        "from sklearn.tree import DecisionTreeClassifier\n",
        "import numpy as np\n",
        "import pandas as pd\n",
        "import scipy\n",
        "from sklearn.svm import  SVC\n",
        "from sklearn.metrics import accuracy_score, roc_auc_score\n",
        "import matplotlib.pyplot as plt\n",
        "from sklearn import ensemble , model_selection, metrics \n",
        "from sklearn.model_selection import learning_curve"
      ],
      "execution_count": 0,
      "outputs": []
    },
    {
      "cell_type": "markdown",
      "metadata": {
        "id": "za37TQjz3tjm",
        "colab_type": "text"
      },
      "source": [
        "Задача классификации фамилий"
      ]
    },
    {
      "cell_type": "markdown",
      "metadata": {
        "id": "ixSju2-SrJIm",
        "colab_type": "text"
      },
      "source": [
        ""
      ]
    },
    {
      "cell_type": "markdown",
      "metadata": {
        "colab_type": "text",
        "id": "dkEdPWgv8cq9"
      },
      "source": [
        "#Prep"
      ]
    },
    {
      "cell_type": "code",
      "metadata": {
        "colab_type": "code",
        "id": "_ryBi6TWz3Ii",
        "colab": {}
      },
      "source": [
        "model = TfidfVectorizer(\n",
        "    lowercase = False, \n",
        "    analyzer='char',\n",
        "    use_idf = False,\n",
        "    sublinear_tf=True,\n",
        "    ngram_range=(1,4),\n",
        "    max_features=50000)"
      ],
      "execution_count": 0,
      "outputs": []
    },
    {
      "cell_type": "code",
      "metadata": {
        "colab_type": "code",
        "id": "0U8mR2Dr17Zt",
        "colab": {}
      },
      "source": [
        "data = pd.read_csv(\"linear_train.txt\",sep=',', header=None)"
      ],
      "execution_count": 0,
      "outputs": []
    },
    {
      "cell_type": "code",
      "metadata": {
        "colab_type": "code",
        "id": "KBKuMRXe7hV1",
        "colab": {}
      },
      "source": [
        "#data[0]=data[0].str.lower()\n"
      ],
      "execution_count": 0,
      "outputs": []
    },
    {
      "cell_type": "code",
      "metadata": {
        "colab_type": "code",
        "id": "mOcEIcWA3qNW",
        "colab": {}
      },
      "source": [
        "data[0]=data[0].replace(r\"[^а-яА-я0-9_]+\",\"\", regex=True)"
      ],
      "execution_count": 0,
      "outputs": []
    },
    {
      "cell_type": "code",
      "metadata": {
        "colab_type": "code",
        "id": "kxsEA24v9kf6",
        "colab": {}
      },
      "source": [
        "#data[0]=data[0].apply(lambda x: x[-5:] if len(x)>5 else x)"
      ],
      "execution_count": 0,
      "outputs": []
    },
    {
      "cell_type": "code",
      "metadata": {
        "colab_type": "code",
        "id": "YB-PwLTQR0ME",
        "outputId": "506871d7-320f-46d6-939f-7826877cc232",
        "colab": {
          "base_uri": "https://localhost:8080/",
          "height": 419
        }
      },
      "source": [
        "data"
      ],
      "execution_count": 0,
      "outputs": [
        {
          "output_type": "execute_result",
          "data": {
            "text/html": [
              "<div>\n",
              "<style scoped>\n",
              "    .dataframe tbody tr th:only-of-type {\n",
              "        vertical-align: middle;\n",
              "    }\n",
              "\n",
              "    .dataframe tbody tr th {\n",
              "        vertical-align: top;\n",
              "    }\n",
              "\n",
              "    .dataframe thead th {\n",
              "        text-align: right;\n",
              "    }\n",
              "</style>\n",
              "<table border=\"1\" class=\"dataframe\">\n",
              "  <thead>\n",
              "    <tr style=\"text-align: right;\">\n",
              "      <th></th>\n",
              "      <th>0</th>\n",
              "      <th>1</th>\n",
              "    </tr>\n",
              "  </thead>\n",
              "  <tbody>\n",
              "    <tr>\n",
              "      <th>0</th>\n",
              "      <td>Аалтонен</td>\n",
              "      <td>1</td>\n",
              "    </tr>\n",
              "    <tr>\n",
              "      <th>1</th>\n",
              "      <td>Аар</td>\n",
              "      <td>0</td>\n",
              "    </tr>\n",
              "    <tr>\n",
              "      <th>2</th>\n",
              "      <td>Аарон</td>\n",
              "      <td>0</td>\n",
              "    </tr>\n",
              "    <tr>\n",
              "      <th>3</th>\n",
              "      <td>ААРОН</td>\n",
              "      <td>0</td>\n",
              "    </tr>\n",
              "    <tr>\n",
              "      <th>4</th>\n",
              "      <td>Аарона</td>\n",
              "      <td>0</td>\n",
              "    </tr>\n",
              "    <tr>\n",
              "      <th>...</th>\n",
              "      <td>...</td>\n",
              "      <td>...</td>\n",
              "    </tr>\n",
              "    <tr>\n",
              "      <th>101403</th>\n",
              "      <td>лкин</td>\n",
              "      <td>1</td>\n",
              "    </tr>\n",
              "    <tr>\n",
              "      <th>101404</th>\n",
              "      <td>лкой</td>\n",
              "      <td>0</td>\n",
              "    </tr>\n",
              "    <tr>\n",
              "      <th>101405</th>\n",
              "      <td>лок</td>\n",
              "      <td>0</td>\n",
              "    </tr>\n",
              "    <tr>\n",
              "      <th>101406</th>\n",
              "      <td>лочкой</td>\n",
              "      <td>0</td>\n",
              "    </tr>\n",
              "    <tr>\n",
              "      <th>101407</th>\n",
              "      <td>мкость</td>\n",
              "      <td>0</td>\n",
              "    </tr>\n",
              "  </tbody>\n",
              "</table>\n",
              "<p>101408 rows × 2 columns</p>\n",
              "</div>"
            ],
            "text/plain": [
              "               0  1\n",
              "0       Аалтонен  1\n",
              "1            Аар  0\n",
              "2          Аарон  0\n",
              "3          ААРОН  0\n",
              "4         Аарона  0\n",
              "...          ... ..\n",
              "101403      лкин  1\n",
              "101404      лкой  0\n",
              "101405       лок  0\n",
              "101406    лочкой  0\n",
              "101407    мкость  0\n",
              "\n",
              "[101408 rows x 2 columns]"
            ]
          },
          "metadata": {
            "tags": []
          },
          "execution_count": 7
        }
      ]
    },
    {
      "cell_type": "code",
      "metadata": {
        "colab_type": "code",
        "id": "0Rlx6rWT8RO3",
        "colab": {}
      },
      "source": [
        "data.drop_duplicates(inplace=True, subset=0)"
      ],
      "execution_count": 0,
      "outputs": []
    },
    {
      "cell_type": "code",
      "metadata": {
        "colab_type": "code",
        "id": "vcn6oEJs0fHP",
        "colab": {}
      },
      "source": [
        "data_vectorized = model.fit_transform(data[0])"
      ],
      "execution_count": 0,
      "outputs": []
    },
    {
      "cell_type": "code",
      "metadata": {
        "id": "v0lNxPzHrxiF",
        "colab_type": "code",
        "colab": {}
      },
      "source": [
        "train_data, test_data, train_target, test_target = (\n",
        "train_test_split(data_vectorized, data[1], test_size = 0.3, random_state=0))"
      ],
      "execution_count": 0,
      "outputs": []
    },
    {
      "cell_type": "markdown",
      "metadata": {
        "colab_type": "text",
        "id": "B2C5EXIo8hzy"
      },
      "source": [
        "#Random Forest"
      ]
    },
    {
      "cell_type": "code",
      "metadata": {
        "colab_type": "code",
        "id": "BKJ17_4Jkuq7",
        "colab": {}
      },
      "source": [
        "rfc = ensemble.RandomForestClassifier(n_estimators = 300, random_state=1)"
      ],
      "execution_count": 0,
      "outputs": []
    },
    {
      "cell_type": "code",
      "metadata": {
        "colab_type": "code",
        "id": "-MVOhOKJkzE9",
        "outputId": "d7a851f7-e0db-4585-9862-69a68b0f68f2",
        "colab": {
          "base_uri": "https://localhost:8080/",
          "height": 153
        }
      },
      "source": [
        "rfc.fit(train_data,train_target)\n"
      ],
      "execution_count": 0,
      "outputs": [
        {
          "output_type": "execute_result",
          "data": {
            "text/plain": [
              "RandomForestClassifier(bootstrap=True, ccp_alpha=0.0, class_weight=None,\n",
              "                       criterion='gini', max_depth=None, max_features='auto',\n",
              "                       max_leaf_nodes=None, max_samples=None,\n",
              "                       min_impurity_decrease=0.0, min_impurity_split=None,\n",
              "                       min_samples_leaf=1, min_samples_split=2,\n",
              "                       min_weight_fraction_leaf=0.0, n_estimators=300,\n",
              "                       n_jobs=None, oob_score=False, random_state=1, verbose=0,\n",
              "                       warm_start=False)"
            ]
          },
          "metadata": {
            "tags": []
          },
          "execution_count": 14
        }
      ]
    },
    {
      "cell_type": "code",
      "metadata": {
        "colab_type": "code",
        "id": "jNSJf-JVJHAJ",
        "colab": {}
      },
      "source": [
        "y1 = rfc.predict(test_data)"
      ],
      "execution_count": 0,
      "outputs": []
    },
    {
      "cell_type": "code",
      "metadata": {
        "colab_type": "code",
        "id": "vo0szz8GNGRJ",
        "outputId": "90042a33-c1ac-4d02-9964-cf94c85faf64",
        "colab": {
          "base_uri": "https://localhost:8080/",
          "height": 34
        }
      },
      "source": [
        "print(roc_auc_score(test_target,y1))"
      ],
      "execution_count": 0,
      "outputs": [
        {
          "output_type": "stream",
          "text": [
            "0.6755723386700261\n"
          ],
          "name": "stdout"
        }
      ]
    },
    {
      "cell_type": "markdown",
      "metadata": {
        "id": "1a9QsZejzYnj",
        "colab_type": "text"
      },
      "source": [
        "ROC_AUC = 0.6755723386700261"
      ]
    },
    {
      "cell_type": "markdown",
      "metadata": {
        "id": "NfMs9F_zrklz",
        "colab_type": "text"
      },
      "source": [
        "# SVM"
      ]
    },
    {
      "cell_type": "code",
      "metadata": {
        "colab_type": "code",
        "id": "u-Dx8Y1KPnzu",
        "outputId": "21db4c74-79d4-4c22-8703-960771b1e867",
        "colab": {
          "base_uri": "https://localhost:8080/",
          "height": 85
        }
      },
      "source": [
        "SVCCls = SVC()\n",
        "SVCCls.fit(train_data, train_target)"
      ],
      "execution_count": 0,
      "outputs": [
        {
          "output_type": "execute_result",
          "data": {
            "text/plain": [
              "SVC(C=1.0, break_ties=False, cache_size=200, class_weight=None, coef0=0.0,\n",
              "    decision_function_shape='ovr', degree=3, gamma='scale', kernel='rbf',\n",
              "    max_iter=-1, probability=False, random_state=None, shrinking=True,\n",
              "    tol=0.001, verbose=False)"
            ]
          },
          "metadata": {
            "tags": []
          },
          "execution_count": 11
        }
      ]
    },
    {
      "cell_type": "code",
      "metadata": {
        "id": "QHVr-k2or2wn",
        "colab_type": "code",
        "colab": {}
      },
      "source": [
        "ANS = SVCCls.predict(test_data)"
      ],
      "execution_count": 0,
      "outputs": []
    },
    {
      "cell_type": "code",
      "metadata": {
        "id": "JdkYIigVr7us",
        "colab_type": "code",
        "outputId": "277842fc-0fbb-47e9-c7e3-bf3ebf0dbc5a",
        "colab": {
          "base_uri": "https://localhost:8080/",
          "height": 34
        }
      },
      "source": [
        "print(roc_auc_score(test_target, ANS))"
      ],
      "execution_count": 0,
      "outputs": [
        {
          "output_type": "stream",
          "text": [
            "0.698242465069693\n"
          ],
          "name": "stdout"
        }
      ]
    },
    {
      "cell_type": "markdown",
      "metadata": {
        "id": "6DMotByj2wJq",
        "colab_type": "text"
      },
      "source": [
        "ROC_AUC = 0.698242465069693"
      ]
    },
    {
      "cell_type": "markdown",
      "metadata": {
        "id": "T_PVVIlr3fL-",
        "colab_type": "text"
      },
      "source": [
        "На моем наборе данных эффективнее оказался Машины опорных векторов"
      ]
    },
    {
      "cell_type": "code",
      "metadata": {
        "id": "TR-RdSjhwPIo",
        "colab_type": "code",
        "colab": {}
      },
      "source": [
        ""
      ],
      "execution_count": 0,
      "outputs": []
    }
  ]
}